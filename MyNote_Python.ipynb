{
  "nbformat": 4,
  "nbformat_minor": 0,
  "metadata": {
    "colab": {
      "name": "MyNote_Python.ipynb",
      "version": "0.3.2",
      "provenance": [],
      "include_colab_link": true
    },
    "kernelspec": {
      "name": "python3",
      "display_name": "Python 3"
    }
  },
  "cells": [
    {
      "cell_type": "markdown",
      "metadata": {
        "id": "view-in-github",
        "colab_type": "text"
      },
      "source": [
        "<a href=\"https://colab.research.google.com/github/nicolanx/FirstRepository/blob/master/MyNote_Python.ipynb\" target=\"_parent\"><img src=\"https://colab.research.google.com/assets/colab-badge.svg\" alt=\"Open In Colab\"/></a>"
      ]
    },
    {
      "cell_type": "code",
      "metadata": {
        "id": "BV9yQwZ5247U",
        "colab_type": "code",
        "outputId": "26a09d03-e3d1-49aa-8de4-ebc444eef8ef",
        "colab": {
          "base_uri": "https://localhost:8080/",
          "height": 52
        }
      },
      "source": [
        "a=input(\"请告诉我你的电话号码\")\n",
        "print(\"你告诉我的电话号码是%s，正确吗？\"%a)"
      ],
      "execution_count": 0,
      "outputs": [
        {
          "output_type": "stream",
          "text": [
            "请告诉我你的电话号码1\n",
            "你告诉我的电话号码是1，正确吗？\n"
          ],
          "name": "stdout"
        }
      ]
    }
  ]
}